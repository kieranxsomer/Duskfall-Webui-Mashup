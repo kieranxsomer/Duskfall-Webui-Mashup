{
  "nbformat": 4,
  "nbformat_minor": 0,
  "metadata": {
    "colab": {
      "provenance": [],
      "authorship_tag": "ABX9TyOckDz7FY9iWjwssU7moRlh",
      "include_colab_link": true
    },
    "kernelspec": {
      "name": "python3",
      "display_name": "Python 3"
    },
    "language_info": {
      "name": "python"
    },
    "gpuClass": "standard"
  },
  "cells": [
    {
      "cell_type": "markdown",
      "metadata": {
        "id": "view-in-github",
        "colab_type": "text"
      },
      "source": [
        "<a href=\"https://colab.research.google.com/github/kieranxsomer/Duskfall-Webui-Mashup/blob/main/Duskfall_WebUi_Mashup.ipynb\" target=\"_parent\"><img src=\"https://colab.research.google.com/assets/colab-badge.svg\" alt=\"Open In Colab\"/></a>"
      ]
    },
    {
      "cell_type": "markdown",
      "source": [
        "![visitor badge](https://visitor-badge.glitch.me/badge?page_id=kieranxsomer.visitor-badge&left_text=MyPageVisitors) [![GitHub](https://badgen.net/badge/icon/github?icon=github&label)](https://github.com/kieranxsomer/Duskfall-Webui-Mashup) \n",
        "\n",
        "# **Duskfall Web UI Mashup**\n",
        "A notebook full of weird and wonderful things that may never work. Feel free to commit, share and fix whatever I screw up. \n",
        "<details>\n",
        "  <summary><big>Support Us!</big></summary>\n",
        "    <ul>\n",
        "      <li>\n",
        "        <a href=\"https://discord.gg/Da7s8d3KJ7\">\n",
        "          <img src=\"https://img.shields.io/discord/1024442483750490222?label=Earth%20%26%20Dusk%20&style=plastic\" alt=\"Discord Badge\">\n",
        "        </a>\n",
        "      </li>\n",
        "      <li>\n",
        "        <a href=\"https://github.com/kieranxsomer/Duskfall-Webui-Mashup\">\n",
        "          <img src=\"https://img.shields.io/github/followers/kieranxsomer?label=Duskfall%20%40%20GIthub&style=social\" alt=\"Follow on Github\">\n",
        "        </a>\n",
        "      </li>\n",
        "      <li>\n",
        "        <a href=\"https://ko-fi.com/DUSKFALLcrew\">\n",
        "          <img src=\"https://img.shields.io/badge/Ko--Fi-Donate-red\" alt=\"Ko-Fi\">\n",
        "        </a>\n",
        "      </li>\n",
        "    </ul>\n",
        "</details>\n",
        "\n"
      ],
      "metadata": {
        "id": "Ml1E7sqTvAfx"
      }
    },
    {
      "cell_type": "markdown",
      "source": [
        "| Notebook Name | Description | Link | \n",
        "| --- | --- | --- | \n",
        "| [Duskfall Web Ui Mashup](https://github.com/kieranxsomer/Duskfall-Webui-Mashup/blob/main/Duskfall_WebUi_Mashup.ipynb) | (Web Ui & MAYBE TRAINING?) | [![](https://img.shields.io/static/v1?message=Open%20in%20Colab&logo=googlecolab&labelColor=5c5c5c&color=0f80c1&label=%20&style=for-the-badge)](https://colab.research.google.com/drive/137NkCzP_F8qFXAI-QK-Hqfly6tuHUjWX?usp=sharing) |"
      ],
      "metadata": {
        "id": "TGrD-gc7zq3Q"
      }
    },
    {
      "cell_type": "markdown",
      "source": [
        "\n",
        "<details>\n",
        "  <summary><big>Where'd i get my code from if i don't know python?</big></summary>\n",
        "Last-Ben https://github.com/TheLastBen/fast-stable-diffusion\n",
        "Kohya-SS notebooks: https://github.com/Linaqruf/kohya-trainer\n",
        "</details>"
      ],
      "metadata": {
        "id": "Se54k6WT03ls"
      }
    },
    {
      "cell_type": "code",
      "source": [
        "#@title ## 1.1.  **Mount Google Drive**\n",
        "from google.colab import drive\n",
        "drive.mount('/content/gdrive')"
      ],
      "metadata": {
        "collapsed": true,
        "cellView": "form",
        "id": "qMdgwqDg0a_K"
      },
      "execution_count": null,
      "outputs": []
    },
    {
      "cell_type": "code",
      "source": [
        "#@title ## 1.2. Open Special `File Explorer` for Colab (Optional)\n",
        "#@markdown This will work in real-time even when you run other cells - This works well if you need to upload things to your notebook! If this doesn't work i'm boomarking the URL here: https://github.com/imjoy-team/imjoy-elfinder\n",
        "import threading\n",
        "from google.colab import output\n",
        "from imjoy_elfinder.app import main\n",
        "%store -r\n",
        "\n",
        "thread = threading.Thread(target=main, args=[[\"--root-dir=/content\", \"--port=8765\"]])\n",
        "thread.start()\n",
        "\n",
        "open_in_new_tab = True #@param {type:\"boolean\"}\n",
        "\n",
        "if open_in_new_tab:\n",
        "  output.serve_kernel_port_as_window(8765)\n",
        "else:\n",
        "  output.serve_kernel_port_as_iframe(8765, height='500')\n"
      ],
      "metadata": {
        "cellView": "form",
        "id": "NRTzE7gV2PFF"
      },
      "execution_count": null,
      "outputs": []
    },
    {
      "cell_type": "code",
      "source": [
        "#@title ## 1.3. Web UI Install \n",
        "#@markdown Check if Duskfall is lacking brain cells, if so proceed to click button to get WebUi Installed\n",
        "#@markdown I warned you I have no clue what i'm doing i'm just copying and pasting LOL!\n",
        "from IPython.utils import capture\n",
        "from IPython.display import clear_output\n",
        "from subprocess import getoutput\n",
        "import ipywidgets as widgets\n",
        "import sys\n",
        "import fileinput\n",
        "import os\n",
        "import time\n",
        "\n",
        "%store -r\n",
        "!nvidia-smi\n",
        "\n"
      ],
      "metadata": {
        "id": "Os6ecN141foQ"
      },
      "execution_count": null,
      "outputs": []
    }
  ]
}