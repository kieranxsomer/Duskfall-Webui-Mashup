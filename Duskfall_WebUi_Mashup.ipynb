{
  "nbformat": 4,
  "nbformat_minor": 0,
  "metadata": {
    "colab": {
      "provenance": [],
      "authorship_tag": "ABX9TyMSXTUM7D5C6v6zfWPR+t51",
      "include_colab_link": true
    },
    "kernelspec": {
      "name": "python3",
      "display_name": "Python 3"
    },
    "language_info": {
      "name": "python"
    },
    "gpuClass": "standard"
  },
  "cells": [
    {
      "cell_type": "markdown",
      "metadata": {
        "id": "view-in-github",
        "colab_type": "text"
      },
      "source": [
        "<a href=\"https://colab.research.google.com/github/kieranxsomer/Duskfall-Webui-Mashup/blob/main/Duskfall_WebUi_Mashup.ipynb\" target=\"_parent\"><img src=\"https://colab.research.google.com/assets/colab-badge.svg\" alt=\"Open In Colab\"/></a>"
      ]
    },
    {
      "cell_type": "markdown",
      "source": [
        "![visitor badge](https://visitor-badge.glitch.me/badge?page_id=kieranxsomer.visitor-badge&left_text=MyPageVisitors) [![GitHub](https://badgen.net/badge/icon/github?icon=github&label)](https://github.com/kieranxsomer/Duskfall-Webui-Mashup) \n",
        "\n",
        "# **Duskfall Web UI Maahup**\n",
        "A notebook full of weird and wonderful things that may never work. Feel free to commit, share and fix whatever I screw up. \n",
        "<details>\n",
        "  <summary><big>Support Us!</big></summary>\n",
        "    <ul>\n",
        "      <li>\n",
        "        <a href=\"https://discord.gg/Da7s8d3KJ7\">\n",
        "          <img src=\"https://img.shields.io/discord/1024442483750490222?label=Earth%20%26%20Dusk%20&style=plastic\" alt=\"Discord Badge\">\n",
        "        </a>\n",
        "      </li>\n",
        "      <li>\n",
        "        <a href=\"https://github.com/kieranxsomer/Duskfall-Webui-Mashup\">\n",
        "          <img src=\"https://img.shields.io/github/followers/kieranxsomer?label=Duskfall%20%40%20GIthub&style=social\" alt=\"Follow on Github\">\n",
        "        </a>\n",
        "      </li>\n",
        "      <li>\n",
        "        <a href=\"https://ko-fi.com/DUSKFALLcrew\">\n",
        "          <img src=\"https://img.shields.io/badge/Ko--Fi-Donate-red\" alt=\"Ko-Fi\">\n",
        "        </a>\n",
        "      </li>\n",
        "    </ul>\n",
        "</details>\n",
        "\n"
      ],
      "metadata": {
        "id": "Ml1E7sqTvAfx"
      }
    }
  ]
}